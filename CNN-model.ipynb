{
  "nbformat": 4,
  "nbformat_minor": 0,
  "metadata": {
    "colab": {
      "name": "withbothtype.ipynb",
      "provenance": [],
      "collapsed_sections": []
    },
    "kernelspec": {
      "name": "python3",
      "display_name": "Python 3"
    },
    "accelerator": "GPU"
  },
  "cells": [
    {
      "cell_type": "code",
      "metadata": {
        "id": "NmWOx-Pdoe0Y",
        "colab_type": "code",
        "outputId": "761898eb-999c-45f1-8c47-1256b13574c9",
        "colab": {
          "base_uri": "https://localhost:8080/",
          "height": 122
        }
      },
      "source": [
        "from google.colab import drive\n",
        "drive.mount('/content/drive')                   "
      ],
      "execution_count": 0,
      "outputs": [
        {
          "output_type": "stream",
          "text": [
            "Go to this URL in a browser: https://accounts.google.com/o/oauth2/auth?client_id=947318989803-6bn6qk8qdgf4n4g3pfee6491hc0brc4i.apps.googleusercontent.com&redirect_uri=urn%3aietf%3awg%3aoauth%3a2.0%3aoob&response_type=code&scope=email%20https%3a%2f%2fwww.googleapis.com%2fauth%2fdocs.test%20https%3a%2f%2fwww.googleapis.com%2fauth%2fdrive%20https%3a%2f%2fwww.googleapis.com%2fauth%2fdrive.photos.readonly%20https%3a%2f%2fwww.googleapis.com%2fauth%2fpeopleapi.readonly\n",
            "\n",
            "Enter your authorization code:\n",
            "··········\n",
            "Mounted at /content/drive\n"
          ],
          "name": "stdout"
        }
      ]
    },
    {
      "cell_type": "code",
      "metadata": {
        "id": "_mbcnRFNoo0i",
        "colab_type": "code",
        "colab": {}
      },
      "source": [
        "from os import listdir\n",
        "from numpy import asarray\n",
        "from numpy import save\n",
        "from keras.preprocessing.image import load_img\n",
        "from keras.preprocessing.image import img_to_array\n",
        "\n",
        "folder='/content/drive/My Drive/major projects/final/training/'\n",
        "photos,labels=list(),list()\n",
        "i=1\n",
        "for file in listdir(folder):\n",
        "  print(str(i)+\" \"+file)\n",
        "  output=0.0\n",
        "  if(file.startswith('nude')):\n",
        "    output=1.0\n",
        "  photo=load_img(folder+file,target_size=(200,200))\n",
        "  photo=img_to_array(photo)\n",
        "  photos.append(photo)\n",
        "  labels.append(output)\n",
        "  i+=1\n",
        "X_train=asarray(photos)\n",
        "Y_train=asarray(labels)\n",
        "#print(X_train)\n",
        "#print(Y_train)\n"
      ],
      "execution_count": 0,
      "outputs": []
    },
    {
      "cell_type": "code",
      "metadata": {
        "id": "FbmMrVaMopzn",
        "colab_type": "code",
        "colab": {}
      },
      "source": [
        "from os import listdir\n",
        "from numpy import asarray\n",
        "from numpy import save\n",
        "from keras.preprocessing.image import load_img\n",
        "from keras.preprocessing.image import img_to_array\n",
        "folder=\"/content/drive/My Drive/major projects/final/testing/\"\n",
        "photos,labels=list(),list()\n",
        "i=1\n",
        "for file in listdir(folder):\n",
        "  print(str(i)+\" \"+file)\n",
        "  output=0.0\n",
        "  if(file.startswith('nude')):\n",
        "    output=1.0\n",
        "  photo=load_img(folder+file,target_size=(200,200))\n",
        "  photo=img_to_array(photo)\n",
        "  photos.append(photo)\n",
        "  labels.append(output)\n",
        "  i+=1\n",
        "X_test=asarray(photos)\n",
        "Y_test=asarray(labels)\n",
        "#print(X_test)\n",
        "#print(Y_test)\n"
      ],
      "execution_count": 0,
      "outputs": []
    },
    {
      "cell_type": "code",
      "metadata": {
        "id": "UxhZuWcmotaG",
        "colab_type": "code",
        "colab": {}
      },
      "source": [
        "\n",
        "import sys\n",
        "from matplotlib import pyplot\n",
        "from keras.utils import to_categorical\n",
        "from keras.models import Sequential\n",
        "from keras.layers import Conv2D\n",
        "from keras.layers import MaxPooling2D\n",
        "from keras.layers import Dense\n",
        "from keras.layers import Flatten\n",
        "from keras.layers import Dropout\n",
        "from keras.optimizers import SGD\n",
        "\n",
        "model = Sequential()\n",
        "model.add(Conv2D(input_shape=(200,200,3),filters=64,kernel_size=(3,3),padding=\"same\", activation=\"relu\"))\n",
        "model.add(Conv2D(filters=64,kernel_size=(3,3),padding=\"same\", activation=\"relu\"))\n",
        "model.add(MaxPooling2D(pool_size=(3,3),strides=(2,2)))\n",
        "\n",
        "\n",
        "model.add(Conv2D(filters=128, kernel_size=(3,3), padding=\"same\", activation=\"relu\"))\n",
        "model.add(Conv2D(filters=128, kernel_size=(3,3), padding=\"same\", activation=\"relu\"))\n",
        "model.add(MaxPooling2D(pool_size=(3,3),strides=(2,2)))\n",
        "\n",
        "model.add(Conv2D(filters=256, kernel_size=(3,3), padding=\"same\", activation=\"relu\"))\n",
        "model.add(Conv2D(filters=256, kernel_size=(3,3), padding=\"same\", activation=\"relu\"))\n",
        "model.add(Conv2D(filters=256, kernel_size=(3,3), padding=\"same\", activation=\"relu\"))\n",
        "model.add(Conv2D(filters=256, kernel_size=(3,3), padding=\"same\", activation=\"relu\"))\n",
        "model.add(MaxPooling2D(pool_size=(3,3),strides=(2,2)))\n",
        "\n",
        "model.add(Conv2D(filters=512, kernel_size=(3,3), padding=\"same\", activation=\"relu\"))\n",
        "model.add(Conv2D(filters=512, kernel_size=(3,3), padding=\"same\", activation=\"relu\"))\n",
        "model.add(Conv2D(filters=512, kernel_size=(3,3), padding=\"same\", activation=\"relu\"))\n",
        "model.add(Conv2D(filters=512,kernel_size=(3,3),padding=\"same\", activation=\"relu\"))\n",
        "model.add(MaxPooling2D(pool_size=(3,3),strides=(2,2)))\n",
        "\n",
        "model.add(Conv2D(filters=512, kernel_size=(3,3), padding=\"same\", activation=\"relu\"))\n",
        "model.add(Conv2D(filters=512, kernel_size=(3,3), padding=\"same\", activation=\"relu\"))\n",
        "model.add(Conv2D(filters=512, kernel_size=(3,3), padding=\"same\", activation=\"relu\"))\n",
        "model.add(Conv2D(filters=512,kernel_size=(3,3),padding=\"same\", activation=\"relu\"))\n",
        "model.add(MaxPooling2D(pool_size=(3,3),strides=(2,2)))\n",
        "\n",
        "\n",
        "\n",
        "\n",
        "model.add(Flatten())\n",
        "\n",
        "model.add(Dense(units=1024,activation=\"relu\"))\n",
        "model.add(Dense(units=1000,activation=\"relu\"))\n",
        "model.add(Dense(units=500,activation=\"relu\"))\n",
        "model.add(Dense(units=128,activation=\"relu\"))\n",
        "model.add(Dense(units=128,activation=\"relu\"))\n",
        "model.add(Dense(units=64,activation=\"relu\"))\n",
        "model.add(Dense(units=1, activation=\"sigmoid\"))\n",
        "\n",
        "\n",
        "\n"
      ],
      "execution_count": 0,
      "outputs": []
    },
    {
      "cell_type": "code",
      "metadata": {
        "id": "pQWS21wfowhy",
        "colab_type": "code",
        "outputId": "0c2e62b6-9fcc-44b2-8c3a-bc4232732d06",
        "colab": {
          "base_uri": "https://localhost:8080/",
          "height": 802
        }
      },
      "source": [
        "opt=SGD(lr=0.001,momentum=0.9)\n",
        "model.compile(optimizer=opt, loss='binary_crossentropy', metrics=['accuracy'])\n",
        "model.fit(X_train,Y_train,validation_data=(X_test,Y_test),batch_size=128,epochs=10,verbose=1)\n",
        "#model.save_weights(\"weights.h5\")\n",
        "#model.save(\"final.h5\")"
      ],
      "execution_count": 0,
      "outputs": [
        {
          "output_type": "stream",
          "text": [
            "WARNING:tensorflow:From /usr/local/lib/python3.6/dist-packages/keras/optimizers.py:793: The name tf.train.Optimizer is deprecated. Please use tf.compat.v1.train.Optimizer instead.\n",
            "\n",
            "WARNING:tensorflow:From /usr/local/lib/python3.6/dist-packages/keras/backend/tensorflow_backend.py:3657: The name tf.log is deprecated. Please use tf.math.log instead.\n",
            "\n",
            "WARNING:tensorflow:From /usr/local/lib/python3.6/dist-packages/tensorflow_core/python/ops/nn_impl.py:183: where (from tensorflow.python.ops.array_ops) is deprecated and will be removed in a future version.\n",
            "Instructions for updating:\n",
            "Use tf.where in 2.0, which has the same broadcast rule as np.where\n",
            "WARNING:tensorflow:From /usr/local/lib/python3.6/dist-packages/keras/backend/tensorflow_backend.py:1033: The name tf.assign_add is deprecated. Please use tf.compat.v1.assign_add instead.\n",
            "\n",
            "WARNING:tensorflow:From /usr/local/lib/python3.6/dist-packages/keras/backend/tensorflow_backend.py:1020: The name tf.assign is deprecated. Please use tf.compat.v1.assign instead.\n",
            "\n",
            "WARNING:tensorflow:From /usr/local/lib/python3.6/dist-packages/keras/backend/tensorflow_backend.py:3005: The name tf.Session is deprecated. Please use tf.compat.v1.Session instead.\n",
            "\n",
            "Train on 5604 samples, validate on 999 samples\n",
            "Epoch 1/10\n",
            "WARNING:tensorflow:From /usr/local/lib/python3.6/dist-packages/keras/backend/tensorflow_backend.py:190: The name tf.get_default_session is deprecated. Please use tf.compat.v1.get_default_session instead.\n",
            "\n",
            "WARNING:tensorflow:From /usr/local/lib/python3.6/dist-packages/keras/backend/tensorflow_backend.py:197: The name tf.ConfigProto is deprecated. Please use tf.compat.v1.ConfigProto instead.\n",
            "\n",
            "WARNING:tensorflow:From /usr/local/lib/python3.6/dist-packages/keras/backend/tensorflow_backend.py:207: The name tf.global_variables is deprecated. Please use tf.compat.v1.global_variables instead.\n",
            "\n",
            "WARNING:tensorflow:From /usr/local/lib/python3.6/dist-packages/keras/backend/tensorflow_backend.py:216: The name tf.is_variable_initialized is deprecated. Please use tf.compat.v1.is_variable_initialized instead.\n",
            "\n",
            "WARNING:tensorflow:From /usr/local/lib/python3.6/dist-packages/keras/backend/tensorflow_backend.py:223: The name tf.variables_initializer is deprecated. Please use tf.compat.v1.variables_initializer instead.\n",
            "\n",
            "5604/5604 [==============================] - 62s 11ms/step - loss: 0.6843 - acc: 0.5592 - val_loss: 0.6564 - val_acc: 0.7027\n",
            "Epoch 2/10\n",
            "5604/5604 [==============================] - 38s 7ms/step - loss: 0.6378 - acc: 0.6488 - val_loss: 0.6278 - val_acc: 0.6356\n",
            "Epoch 3/10\n",
            "5604/5604 [==============================] - 38s 7ms/step - loss: 0.6103 - acc: 0.6693 - val_loss: 0.4481 - val_acc: 0.8258\n",
            "Epoch 4/10\n",
            "5604/5604 [==============================] - 38s 7ms/step - loss: 0.5775 - acc: 0.7038 - val_loss: 0.4991 - val_acc: 0.7848\n",
            "Epoch 5/10\n",
            "5604/5604 [==============================] - 38s 7ms/step - loss: 0.5317 - acc: 0.7471 - val_loss: 0.5049 - val_acc: 0.8168\n",
            "Epoch 6/10\n",
            "5604/5604 [==============================] - 38s 7ms/step - loss: 0.5193 - acc: 0.7557 - val_loss: 0.4426 - val_acc: 0.8148\n",
            "Epoch 7/10\n",
            "5604/5604 [==============================] - 38s 7ms/step - loss: 0.5123 - acc: 0.7579 - val_loss: 0.5155 - val_acc: 0.7818\n",
            "Epoch 8/10\n",
            "5604/5604 [==============================] - 38s 7ms/step - loss: 0.4939 - acc: 0.7744 - val_loss: 0.6098 - val_acc: 0.6997\n",
            "Epoch 9/10\n",
            "5604/5604 [==============================] - 38s 7ms/step - loss: 0.4969 - acc: 0.7616 - val_loss: 0.3801 - val_acc: 0.8519\n",
            "Epoch 10/10\n",
            "5604/5604 [==============================] - 38s 7ms/step - loss: 0.5082 - acc: 0.7595 - val_loss: 0.4281 - val_acc: 0.8639\n"
          ],
          "name": "stdout"
        },
        {
          "output_type": "execute_result",
          "data": {
            "text/plain": [
              "<keras.callbacks.History at 0x7f92143b10f0>"
            ]
          },
          "metadata": {
            "tags": []
          },
          "execution_count": 5
        }
      ]
    },
    {
      "cell_type": "code",
      "metadata": {
        "id": "fJGDHJybNNq0",
        "colab_type": "code",
        "outputId": "99524a2d-6330-44b4-f6d4-540f36fb0b74",
        "colab": {
          "base_uri": "https://localhost:8080/",
          "height": 561
        }
      },
      "source": [
        "opt=SGD(lr=0.001,momentum=0.9)\n",
        "model.compile(optimizer=opt, loss='binary_crossentropy', metrics=['accuracy'])\n",
        "model.fit(X_train,Y_train,validation_data=(X_test,Y_test),batch_size=128,epochs=15,verbose=1)\n",
        "#model.save_weights(\"weights.h5\")\n",
        "#model.save(\"final.h5\")"
      ],
      "execution_count": 0,
      "outputs": [
        {
          "output_type": "stream",
          "text": [
            "Train on 5604 samples, validate on 999 samples\n",
            "Epoch 1/15\n",
            "5604/5604 [==============================] - 40s 7ms/step - loss: 0.6825 - acc: 0.5803 - val_loss: 0.6212 - val_acc: 0.7518\n",
            "Epoch 2/15\n",
            "5604/5604 [==============================] - 38s 7ms/step - loss: 0.6601 - acc: 0.6089 - val_loss: 0.7298 - val_acc: 0.3233\n",
            "Epoch 3/15\n",
            "5604/5604 [==============================] - 38s 7ms/step - loss: 0.6681 - acc: 0.5805 - val_loss: 0.7753 - val_acc: 0.3293\n",
            "Epoch 4/15\n",
            "5604/5604 [==============================] - 38s 7ms/step - loss: 0.6332 - acc: 0.6363 - val_loss: 0.5746 - val_acc: 0.6937\n",
            "Epoch 5/15\n",
            "5604/5604 [==============================] - 38s 7ms/step - loss: 0.5637 - acc: 0.7136 - val_loss: 0.4926 - val_acc: 0.7898\n",
            "Epoch 6/15\n",
            "5604/5604 [==============================] - 38s 7ms/step - loss: 0.5376 - acc: 0.7404 - val_loss: 0.4925 - val_acc: 0.7848\n",
            "Epoch 7/15\n",
            "5604/5604 [==============================] - 38s 7ms/step - loss: 0.5592 - acc: 0.7243 - val_loss: 0.5506 - val_acc: 0.7317\n",
            "Epoch 8/15\n",
            "5604/5604 [==============================] - 38s 7ms/step - loss: 0.5184 - acc: 0.7575 - val_loss: 0.4492 - val_acc: 0.8318\n",
            "Epoch 9/15\n",
            "5604/5604 [==============================] - 38s 7ms/step - loss: 0.5239 - acc: 0.7514 - val_loss: 0.5181 - val_acc: 0.7708\n",
            "Epoch 10/15\n",
            "5604/5604 [==============================] - 38s 7ms/step - loss: 0.5199 - acc: 0.7521 - val_loss: 0.4678 - val_acc: 0.8078\n",
            "Epoch 11/15\n",
            "5604/5604 [==============================] - 38s 7ms/step - loss: 0.5038 - acc: 0.7630 - val_loss: 0.4547 - val_acc: 0.8438\n",
            "Epoch 12/15\n",
            "5604/5604 [==============================] - 38s 7ms/step - loss: 0.4857 - acc: 0.7741 - val_loss: 0.3581 - val_acc: 0.8629\n",
            "Epoch 13/15\n",
            "5604/5604 [==============================] - 38s 7ms/step - loss: 0.4804 - acc: 0.7741 - val_loss: 0.3733 - val_acc: 0.8539\n",
            "Epoch 14/15\n",
            "5604/5604 [==============================] - 38s 7ms/step - loss: 0.4822 - acc: 0.7703 - val_loss: 0.5174 - val_acc: 0.7808\n",
            "Epoch 15/15\n",
            "5604/5604 [==============================] - 38s 7ms/step - loss: 0.4780 - acc: 0.7784 - val_loss: 0.3424 - val_acc: 0.8729\n"
          ],
          "name": "stdout"
        },
        {
          "output_type": "execute_result",
          "data": {
            "text/plain": [
              "<keras.callbacks.History at 0x7f4ce2324860>"
            ]
          },
          "metadata": {
            "tags": []
          },
          "execution_count": 20
        }
      ]
    },
    {
      "cell_type": "code",
      "metadata": {
        "id": "ZlefQhaDQtfo",
        "colab_type": "code",
        "colab": {}
      },
      "source": [
        "import sys\n",
        "from matplotlib import pyplot\n",
        "from keras.utils import to_categorical\n",
        "from keras.applications.vgg19 import VGG19\n",
        "from keras.models import Model\n",
        "from keras.layers import Dense\n",
        "from keras.layers import Flatten\n",
        "from keras.optimizers import SGD\n",
        "\n",
        "model=VGG19(include_top=False,input_shape=(200,200,3))\n",
        "for layer in model.layers:\n",
        "  layer.trainable=False\n",
        "flat1=Flatten()(model.layers[-1].output)\n",
        "class1=Dense(500,activation='relu',kernel_initializer=\"he_uniform\")(flat1)\n",
        "class2=Dense(500,activation='relu',kernel_initializer=\"he_uniform\")(class1)\n",
        "class3=Dense(500,activation='relu',kernel_initializer=\"he_uniform\")(class2)\n",
        "class4=Dense(500,activation='relu',kernel_initializer=\"he_uniform\")(class3)\n",
        "output=Dense(1,activation='sigmoid')(class4)\n",
        "model=Model(inputs=model.inputs,outputs=output)"
      ],
      "execution_count": 0,
      "outputs": []
    },
    {
      "cell_type": "code",
      "metadata": {
        "id": "IlOZIKnt9OAr",
        "colab_type": "code",
        "outputId": "5e96e1aa-add7-4951-9a94-db678b37c04c",
        "colab": {
          "base_uri": "https://localhost:8080/",
          "height": 391
        }
      },
      "source": [
        "opt=SGD(lr=0.001,momentum=0.9)\n",
        "model.compile(optimizer=opt, loss='binary_crossentropy', metrics=['accuracy'])\n",
        "model.fit(X_train,Y_train,validation_data=(X_test,Y_test),batch_size=128,epochs=10,verbose=1)\n",
        "#model.save_weights(\"weights.h5\")\n",
        "#model.save(\"final.h5\")"
      ],
      "execution_count": 0,
      "outputs": [
        {
          "output_type": "stream",
          "text": [
            "Train on 5604 samples, validate on 999 samples\n",
            "Epoch 1/10\n",
            "5604/5604 [==============================] - 18s 3ms/step - loss: 0.0052 - acc: 0.9995 - val_loss: 0.6873 - val_acc: 0.8458\n",
            "Epoch 2/10\n",
            "5604/5604 [==============================] - 16s 3ms/step - loss: 0.0051 - acc: 0.9993 - val_loss: 0.7160 - val_acc: 0.8428\n",
            "Epoch 3/10\n",
            "5604/5604 [==============================] - 16s 3ms/step - loss: 0.0047 - acc: 0.9993 - val_loss: 0.6240 - val_acc: 0.8619\n",
            "Epoch 4/10\n",
            "5604/5604 [==============================] - 16s 3ms/step - loss: 0.0055 - acc: 0.9991 - val_loss: 0.6305 - val_acc: 0.8609\n",
            "Epoch 5/10\n",
            "5604/5604 [==============================] - 16s 3ms/step - loss: 0.0046 - acc: 0.9995 - val_loss: 0.7664 - val_acc: 0.8378\n",
            "Epoch 6/10\n",
            "5604/5604 [==============================] - 16s 3ms/step - loss: 0.0050 - acc: 0.9993 - val_loss: 0.6693 - val_acc: 0.8529\n",
            "Epoch 7/10\n",
            "5604/5604 [==============================] - 16s 3ms/step - loss: 0.0047 - acc: 0.9995 - val_loss: 0.7052 - val_acc: 0.8468\n",
            "Epoch 8/10\n",
            "5604/5604 [==============================] - 16s 3ms/step - loss: 0.0050 - acc: 0.9991 - val_loss: 0.6670 - val_acc: 0.8549\n",
            "Epoch 9/10\n",
            "5604/5604 [==============================] - 16s 3ms/step - loss: 0.0046 - acc: 0.9993 - val_loss: 0.6720 - val_acc: 0.8559\n",
            "Epoch 10/10\n",
            "5604/5604 [==============================] - 16s 3ms/step - loss: 0.0058 - acc: 0.9993 - val_loss: 0.7326 - val_acc: 0.8428\n"
          ],
          "name": "stdout"
        },
        {
          "output_type": "execute_result",
          "data": {
            "text/plain": [
              "<keras.callbacks.History at 0x7f4ce0e97320>"
            ]
          },
          "metadata": {
            "tags": []
          },
          "execution_count": 38
        }
      ]
    },
    {
      "cell_type": "code",
      "metadata": {
        "id": "m3MqnNsWQ2wV",
        "colab_type": "code",
        "outputId": "89668da4-8910-4ea3-d3ec-436a058ae2e0",
        "colab": {
          "base_uri": "https://localhost:8080/",
          "height": 544
        }
      },
      "source": [
        "opt=SGD(lr=0.001,momentum=0.9)\n",
        "model.compile(optimizer=opt, loss='binary_crossentropy', metrics=['accuracy'])\n",
        "model.fit(X_train,Y_train,validation_data=(X_test,Y_test),batch_size=128,epochs=15,verbose=1)\n",
        "#model.save_weights(\"weights.h5\")\n",
        "model.save(\"final.h5\")"
      ],
      "execution_count": 0,
      "outputs": [
        {
          "output_type": "stream",
          "text": [
            "Train on 5604 samples, validate on 999 samples\n",
            "Epoch 1/15\n",
            "5604/5604 [==============================] - 21s 4ms/step - loss: 0.0065 - acc: 0.9995 - val_loss: 0.7341 - val_acc: 0.8368\n",
            "Epoch 2/15\n",
            "5604/5604 [==============================] - 16s 3ms/step - loss: 0.0065 - acc: 0.9995 - val_loss: 0.6669 - val_acc: 0.8589\n",
            "Epoch 3/15\n",
            "5604/5604 [==============================] - 16s 3ms/step - loss: 0.0067 - acc: 0.9993 - val_loss: 0.6752 - val_acc: 0.8559\n",
            "Epoch 4/15\n",
            "5604/5604 [==============================] - 16s 3ms/step - loss: 0.0065 - acc: 0.9995 - val_loss: 0.7129 - val_acc: 0.8478\n",
            "Epoch 5/15\n",
            "5604/5604 [==============================] - 16s 3ms/step - loss: 0.0066 - acc: 0.9995 - val_loss: 0.6376 - val_acc: 0.8669\n",
            "Epoch 6/15\n",
            "5604/5604 [==============================] - 16s 3ms/step - loss: 0.0069 - acc: 0.9993 - val_loss: 0.6841 - val_acc: 0.8539\n",
            "Epoch 7/15\n",
            "5604/5604 [==============================] - 16s 3ms/step - loss: 0.0064 - acc: 0.9993 - val_loss: 0.6529 - val_acc: 0.8609\n",
            "Epoch 8/15\n",
            "5604/5604 [==============================] - 16s 3ms/step - loss: 0.0065 - acc: 0.9995 - val_loss: 0.7065 - val_acc: 0.8478\n",
            "Epoch 9/15\n",
            "5604/5604 [==============================] - 16s 3ms/step - loss: 0.0065 - acc: 0.9993 - val_loss: 0.6958 - val_acc: 0.8529\n",
            "Epoch 10/15\n",
            "5604/5604 [==============================] - 16s 3ms/step - loss: 0.0064 - acc: 0.9995 - val_loss: 0.6650 - val_acc: 0.8599\n",
            "Epoch 11/15\n",
            "5604/5604 [==============================] - 16s 3ms/step - loss: 0.0064 - acc: 0.9995 - val_loss: 0.7135 - val_acc: 0.8478\n",
            "Epoch 12/15\n",
            "5604/5604 [==============================] - 16s 3ms/step - loss: 0.0064 - acc: 0.9995 - val_loss: 0.6784 - val_acc: 0.8579\n",
            "Epoch 13/15\n",
            "5604/5604 [==============================] - 16s 3ms/step - loss: 0.0064 - acc: 0.9995 - val_loss: 0.7408 - val_acc: 0.8438\n",
            "Epoch 14/15\n",
            "5604/5604 [==============================] - 16s 3ms/step - loss: 0.0064 - acc: 0.9995 - val_loss: 0.6634 - val_acc: 0.8619\n",
            "Epoch 15/15\n",
            "5604/5604 [==============================] - 16s 3ms/step - loss: 0.0065 - acc: 0.9993 - val_loss: 0.7027 - val_acc: 0.8539\n"
          ],
          "name": "stdout"
        }
      ]
    }
  ]
}